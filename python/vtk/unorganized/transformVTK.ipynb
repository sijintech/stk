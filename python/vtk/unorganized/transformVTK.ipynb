{
 "metadata": {
  "name": "",
  "signature": "sha256:eb183aad49babf3dc18fc8480e41d565b5229fd6b39c4b4e4bc632f0932264ea"
 },
 "nbformat": 3,
 "nbformat_minor": 0,
 "worksheets": [
  {
   "cells": [
    {
     "cell_type": "code",
     "collapsed": false,
     "input": [
      "file = open(\"strain.00000000.dat\",\"r\")"
     ],
     "language": "python",
     "metadata": {},
     "outputs": [],
     "prompt_number": 17
    },
    {
     "cell_type": "code",
     "collapsed": false,
     "input": [
      "lines = file.readlines()"
     ],
     "language": "python",
     "metadata": {},
     "outputs": [],
     "prompt_number": 18
    },
    {
     "cell_type": "code",
     "collapsed": false,
     "input": [
      "a=[]\n",
      "temp=[]\n",
      "position=[]\n",
      "data=[]\n",
      "nx=48\n",
      "ny=48\n",
      "nz=48\n",
      "nn=nx*ny*nz"
     ],
     "language": "python",
     "metadata": {},
     "outputs": [],
     "prompt_number": 19
    },
    {
     "cell_type": "code",
     "collapsed": false,
     "input": [
      "for line in lines[1:]:\n",
      "    a.extend([map(float,line.rstrip().split())])\n",
      "    position.extend([[a[-1][0],a[-1][1],a[-1][2]]])\n",
      "    data.extend([a[-1][3]])"
     ],
     "language": "python",
     "metadata": {},
     "outputs": [],
     "prompt_number": 20
    },
    {
     "cell_type": "code",
     "collapsed": false,
     "input": [
      "temp.extend(map(float,lines[0].rstrip().split()))\n",
      "nx=temp[0]\n",
      "ny=temp[1]\n",
      "nz=temp[2]\n",
      "nn=nx*ny*nz"
     ],
     "language": "python",
     "metadata": {},
     "outputs": [],
     "prompt_number": 21
    },
    {
     "cell_type": "code",
     "collapsed": false,
     "input": [
      "temp"
     ],
     "language": "python",
     "metadata": {},
     "outputs": [
      {
       "metadata": {},
       "output_type": "pyout",
       "prompt_number": 22,
       "text": [
        "[48.0, 48.0, 48.0]"
       ]
      }
     ],
     "prompt_number": 22
    },
    {
     "cell_type": "code",
     "collapsed": false,
     "input": [
      "file=open(\"strain.vtk\",\"w\")\n",
      "file.write(\"# vtk DataFile Version 3.0\\n\")\n",
      "file.write(\"Structured Grid Example\\n\")\n",
      "file.write(\"ASCII\\n\")\n",
      "file.write(\"\\n\")\n",
      "file.write(\"DATASET STRUCTURED_POINTS\\n\")\n",
      "dimension=\"DIMENSIONS \"+str(nx)+\" \"+str(ny)+\" \"+str(nz)\n",
      "file.write(dimension+\"\\n\")\n",
      "file.write(\"ORIGIN 1 1 1\\n\")\n",
      "file.write(\"SPACING 1 1 1\\n\")\n",
      "#file.write((\"points \"+str(nn)+\" float\\n\"))\n",
      "file.close()"
     ],
     "language": "python",
     "metadata": {},
     "outputs": [],
     "prompt_number": 38
    },
    {
     "cell_type": "code",
     "collapsed": false,
     "input": [
      "!type strain.vtk"
     ],
     "language": "python",
     "metadata": {},
     "outputs": [
      {
       "output_type": "stream",
       "stream": "stdout",
       "text": [
        "# vtk DataFile Version 3.0\n",
        "Structured Grid Example\n",
        "ASCII\n",
        "\n",
        "DATASET STRUCTURED_POINTS\n",
        "DIMENSIONS 48 48 48\n",
        "ORIGIN 1 1 1\n",
        "SPACING 1 1 1\n"
       ]
      }
     ],
     "prompt_number": 41
    },
    {
     "cell_type": "code",
     "collapsed": false,
     "input": [
      "file=open(\"strain.vtk\",\"a\")\n",
      "file.write(\"\\n\")\n",
      "file.write((\"POINT_DATA \"+str(nn)+\"\\n\"))\n",
      "file.write((\"SCALARS scalars float\\n\"))\n",
      "file.write((\"LOOKUP_TABLE default\\n\"))\n",
      "file.close()"
     ],
     "language": "python",
     "metadata": {},
     "outputs": [],
     "prompt_number": 42
    },
    {
     "cell_type": "code",
     "collapsed": false,
     "input": [
      "file=open(\"strain.vtk\",\"a\")\n",
      "for dat in data:\n",
      "    file.write((str(dat)+\"\\n\"))\n",
      "file.close()"
     ],
     "language": "python",
     "metadata": {},
     "outputs": [],
     "prompt_number": 43
    },
    {
     "cell_type": "code",
     "collapsed": false,
     "input": [
      "%less strain.vtk"
     ],
     "language": "python",
     "metadata": {},
     "outputs": [],
     "prompt_number": 44
    },
    {
     "cell_type": "code",
     "collapsed": false,
     "input": [
      "file = open(\"elePlrz.00000000.dat\",\"r\")"
     ],
     "language": "python",
     "metadata": {},
     "outputs": [],
     "prompt_number": 83
    },
    {
     "cell_type": "code",
     "collapsed": false,
     "input": [
      "lines = file.readlines()"
     ],
     "language": "python",
     "metadata": {},
     "outputs": [],
     "prompt_number": 84
    },
    {
     "cell_type": "code",
     "collapsed": false,
     "input": [
      "a=[]\n",
      "b=[]\n",
      "position=[]\n",
      "data=[]\n",
      "nx=48\n",
      "ny=48\n",
      "nz=48\n",
      "nn=nx*ny*nz"
     ],
     "language": "python",
     "metadata": {},
     "outputs": [],
     "prompt_number": 85
    },
    {
     "cell_type": "code",
     "collapsed": false,
     "input": [
      "for line in lines[1:]:\n",
      "    a.extend([map(float,line.rstrip().split())])\n",
      "    position.extend([[a[-1][0],a[-1][1],a[-1][2]]])\n",
      "    data.extend([[a[-1][3],a[-1][4],a[-1][5]]])"
     ],
     "language": "python",
     "metadata": {},
     "outputs": [],
     "prompt_number": 86
    },
    {
     "cell_type": "code",
     "collapsed": false,
     "input": [
      "data[-1][-1]"
     ],
     "language": "python",
     "metadata": {},
     "outputs": [
      {
       "metadata": {},
       "output_type": "pyout",
       "prompt_number": 87,
       "text": [
        "1.61908057e-05"
       ]
      }
     ],
     "prompt_number": 87
    },
    {
     "cell_type": "code",
     "collapsed": false,
     "input": [
      "file=open(\"vector.vtk\",\"w\")\n",
      "file.write(\"# vtk DataFile Version 3.0\\n\")\n",
      "file.write(\"Structured Grid Example\\n\")\n",
      "file.write(\"ASCII\\n\")\n",
      "file.write(\"\\n\")\n",
      "file.write(\"DATASET STRUCTURED_POINTS\\n\")\n",
      "dimension=\"DIMENSIONS \"+str(nz)+\" \"+str(ny)+\" \"+str(nx)\n",
      "file.write(dimension+\"\\n\")\n",
      "file.write(\"ORIGIN 0 0 0\\n\")\n",
      "file.write(\"SPACING 1 1 1\\n\")\n",
      "#file.write((\"points \"+str(nn)+\" float\\n\"))\n",
      "file.write(\"\\n\")\n",
      "file.write((\"POINT_DATA \"+str(nn)+\"\\n\"))\n",
      "#file.write((\"LOOKUP_TABLE default\\n\"))\n",
      "file.write((\"VECTORS dispV float\\n\"))\n",
      "file.close()"
     ],
     "language": "python",
     "metadata": {},
     "outputs": [],
     "prompt_number": 88
    },
    {
     "cell_type": "code",
     "collapsed": false,
     "input": [
      "file=open(\"vector.vtk\",\"a\")\n",
      "for pos in data:\n",
      "    #file.write((str(pos[0])+\" \"+str(pos[1])+\" \"+str(pos[2])+\"\\n\"))\n",
      "    file.write((str(pos[0])+\" \"+str(pos[1])+\" \"+str(pos[2])+\"\\n\"))\n",
      "file.close()"
     ],
     "language": "python",
     "metadata": {},
     "outputs": [],
     "prompt_number": 89
    },
    {
     "cell_type": "code",
     "collapsed": false,
     "input": [
      "%less vector.vtk"
     ],
     "language": "python",
     "metadata": {},
     "outputs": [],
     "prompt_number": 90
    },
    {
     "cell_type": "code",
     "collapsed": false,
     "input": [
      " "
     ],
     "language": "python",
     "metadata": {},
     "outputs": []
    }
   ],
   "metadata": {}
  }
 ]
}